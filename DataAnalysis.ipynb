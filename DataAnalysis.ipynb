{
 "cells": [
  {
   "cell_type": "markdown",
   "id": "00dd0d66-bf6d-44f7-b389-bc96c61fb72e",
   "metadata": {},
   "source": [
    "###USE IT TO GENERATE PLOTS AND TABLES###"
   ]
  },
  {
   "cell_type": "code",
   "execution_count": 4,
   "id": "c60098c7-5f77-479a-ad3f-f4373439d7aa",
   "metadata": {},
   "outputs": [],
   "source": [
    "import os\n",
    "import requests\n",
    "from bs4 import BeautifulSoup\n",
    "import pandas as pd\n",
    "import seaborn as sns\n",
    "import matplotlib.pyplot as plt\n",
    "import numpy as np\n",
    "import re"
   ]
  },
  {
   "cell_type": "code",
   "execution_count": 5,
   "id": "cc0a0c16-c6aa-4d98-9da5-3d4ecc99142b",
   "metadata": {},
   "outputs": [],
   "source": [
    "def preprocess_label(label):  \n",
    "    # Add spaces before capital letters (if not already present)\n",
    "    label = re.sub(r'(?<!\\s)(?=[A-Z])', ' ', label)\n",
    "    \n",
    "    # Replace long names with abbreviations\n",
    "    label = label.replace(\"Takahashi Matsuyama\", \"TM \")\n",
    "    label = label.replace(\"T M\", \"TM \")\n",
    "    label = label.replace(\"Dreyfus Wagner\", \"DW  \")\n",
    "    label = label.replace(\"D W\", \"DW  \")\n",
    "    label = label.replace(\"Kou Markowsky Berman\", \"KMB  \")\n",
    "    label = label.replace(\"K M B\", \"KMB  \")\n",
    "\n",
    "    # Replace ...\n",
    "    label = label.replace(\"Cost_ratio\", \"Approx-ratio \")\n",
    "    label = label.replace(\"worst case\", \"Worst Case\")\n",
    "    label = label.replace(\"_\", \" \")\n",
    "\n",
    "    # Remove \"Time\" from the label\n",
    "    label = label.replace(\"Time\", \"\")\n",
    "    label = label.replace(\"duration\", \"\")\n",
    "    label = label.replace(\"TimeToPerformance\", \"\")\n",
    "\n",
    "    # Remove extra spaces (if any)\n",
    "    label = re.sub(r'\\s+', ' ', label).strip()\n",
    "    \n",
    "    return label"
   ]
  },
  {
   "cell_type": "code",
   "execution_count": 6,
   "id": "20796186-3897-4f2c-8bb2-c81d2f5e300c",
   "metadata": {},
   "outputs": [],
   "source": [
    "def get_subdirectory_from_path(path):\n",
    "    # Extract the last part of the path (i.e., the folder name)\n",
    "    return os.path.basename(os.path.normpath(path))   "
   ]
  },
  {
   "cell_type": "code",
   "execution_count": 7,
   "id": "865b48c6-4b5d-4a79-adbe-3730b0b4bc9b",
   "metadata": {},
   "outputs": [],
   "source": [
    "def split_after_second_space(input_string):\n",
    "    # Step 1: Insert a space before each capital letter\n",
    "    modified_string = re.sub(r'([a-z])([A-Z])', r'\\1 \\2', input_string)\n",
    "    \n",
    "    # Step 2: Split the string by spaces\n",
    "    split_parts = modified_string.split()\n",
    "    \n",
    "    # Step 3: Return the string after the second space (i.e., index 2 onward)\n",
    "    result = \" \".join(split_parts[2:])\n",
    "    return result[0].lower() + result[1:]"
   ]
  },
  {
   "cell_type": "code",
   "execution_count": 8,
   "id": "2fc406e4-f735-41b4-b432-05b272c6ab35",
   "metadata": {},
   "outputs": [],
   "source": [
    "# Format numeric values in the columns to remove unnecessary decimals\n",
    "def format_value(x):\n",
    "    if isinstance(x, (int, float)):  # Check if the value is numeric\n",
    "        return f\"{x:.0f}\" if x == int(x) else f\"{x:.3f}\"  # Format integers and floats differently\n",
    "    return str(x)  # Return non-numeric values as strings"
   ]
  },
  {
   "cell_type": "code",
   "execution_count": 9,
   "id": "f9bebc28-4c38-4981-9b59-e49d8b57e5e5",
   "metadata": {},
   "outputs": [],
   "source": [
    "def create_approximation_ratio_table(df, x_col, y_cols, opt_col, output_folder=\"./tables\"):\n",
    "    \"\"\"\n",
    "    Generate a table for approximation ratios relative to `opt_col`.\n",
    "\n",
    "    Parameters:\n",
    "        df (pd.DataFrame): The input data.\n",
    "        x_col (str): The independent variable.\n",
    "        y_cols (list[str]): List of dependent variables for which to calculate approximation ratios.\n",
    "        opt_col (str): The column representing the \"Opt\" value.\n",
    "        output_folder (str): Path to save the LaTeX table.\n",
    "\n",
    "    Returns:\n",
    "        pd.DataFrame: Aggregated per-x_col approximation ratios.\n",
    "        pd.DataFrame: Overall approximation ratio summary.\n",
    "    \"\"\"\n",
    "    # Ensure the output folder exists\n",
    "    os.makedirs(output_folder, exist_ok=True)\n",
    "\n",
    "    # Calculate approximation ratios\n",
    "    approx_ratios = df.copy()\n",
    "    for col in y_cols:\n",
    "        if col != \"worst_case\":\n",
    "            approx_ratios[f\"{col}_ratio\"] = approx_ratios[col] / approx_ratios[opt_col]\n",
    "    \n",
    "    # Per-x_col statistics\n",
    "    agg_funcs = {f\"{col}_ratio\": [\"mean\", \"min\", \"max\"] for col in y_cols if col != \"worst_case\"}\n",
    "    agg_funcs[\"worst_case\"] = [\"mean\", \"min\", \"max\"]\n",
    "    per_x_stats = approx_ratios.groupby(x_col).agg(agg_funcs)\n",
    "    per_x_stats.columns = [\"_\".join(col).strip() for col in per_x_stats.columns]\n",
    "    per_x_stats = per_x_stats.reset_index()\n",
    "    \n",
    "    # Apply preprocessing to column names in per_x_stats\n",
    "    per_x_stats.columns = [preprocess_label(col) for col in per_x_stats.columns]\n",
    "                           \n",
    "    # Overall statistics\n",
    "    overall_stats = {}\n",
    "    for col in y_cols:\n",
    "        if col != \"worst_case\":\n",
    "            ratio_col = f\"{col}_ratio\"\n",
    "            overall_stats[ratio_col] = {\n",
    "                \"mean\": approx_ratios[ratio_col].mean(),\n",
    "                \"min\": approx_ratios[ratio_col].min(),\n",
    "                \"max\": approx_ratios[ratio_col].max(),\n",
    "            }\n",
    "    # Include overall statistics for worst-case ratio\n",
    "    overall_stats[\"worst_case\"] = {\n",
    "        \"mean\": approx_ratios[\"worst_case\"].mean(),\n",
    "        \"min\": approx_ratios[\"worst_case\"].min(),\n",
    "        \"max\": approx_ratios[\"worst_case\"].max(),\n",
    "    }\n",
    "    overall_stats_df = pd.DataFrame(overall_stats).T.reset_index()\n",
    "    overall_stats_df.columns = [\"Metric\", \"Mean\", \"Min\", \"Max\"]\n",
    "\n",
    "    # Apply preprocessing to the \"Metric\" column\n",
    "    overall_stats_df[\"Metric\"] = overall_stats_df[\"Metric\"].apply(preprocess_label)\n",
    "\n",
    "\n",
    "    # print(overall_stats_df)\n",
    "    # Apply preprocessing to column names in overall_stats_df\n",
    "    overall_stats_df.columns = [preprocess_label(col) for col in overall_stats_df.columns]\n",
    "\n",
    "    # Transpose the table\n",
    "    per_x_stats_transposed = per_x_stats.T\n",
    "    per_x_stats_transposed.reset_index(inplace=True)  # Reset the index so the first row can be handled properly\n",
    "    per_x_stats_transposed.columns = per_x_stats_transposed.iloc[0]  # Set the first row as column headers\n",
    "    per_x_stats_transposed = per_x_stats_transposed.drop(index=0)  # Remove the old header row\n",
    "        \n",
    "    # Use the original x_col name as the table header for clarity\n",
    "    header_name = preprocess_label(x_col)  # Ensure it's preprocessed consistently\n",
    "    per_x_stats_transposed.rename(columns={per_x_stats_transposed.columns[0]: header_name}, inplace=True)\n",
    "    \n",
    "    # Apply the format_value function to each element of the DataFrame\n",
    "    for col in per_x_stats_transposed.columns:\n",
    "        per_x_stats_transposed[col] = per_x_stats_transposed[col].map(format_value)\n",
    "    \n",
    "    # Save the transposed table\n",
    "    per_x_table_path = os.path.join(output_folder, f\"approx_ratios_per_x_{x_col}_transposed.tex\")\n",
    "    with open(per_x_table_path, \"w\") as f:\n",
    "        f.write(per_x_stats_transposed.to_latex(index=True, float_format=\"%.3f\"))\n",
    "    \n",
    "    # Save per-x_col approximation ratios to a LaTeX table\n",
    "    per_x_table_path = os.path.join(output_folder, f\"approx_ratios_per_x_{x_col}.tex\")\n",
    "    with open(per_x_table_path, \"w\") as f:\n",
    "        f.write(per_x_stats.to_latex(index=False, float_format=\"%.3f\"))\n",
    "\n",
    "    # Save overall approximation ratios to a LaTeX table\n",
    "    overall_table_path = os.path.join(output_folder, f\"approx_ratios_overall_{x_col}.tex\")\n",
    "    with open(overall_table_path, \"w\") as f:\n",
    "        f.write(overall_stats_df.to_latex(index=False, float_format=\"%.3f\"))\n",
    "\n",
    "    print(f\"Approximation ratio tables saved: {per_x_table_path}, {overall_table_path}\")\n",
    "    return per_x_stats, overall_stats_df"
   ]
  },
  {
   "cell_type": "code",
   "execution_count": 10,
   "id": "3a5bd8d3-070b-4083-8cc1-1107b2ebda0e",
   "metadata": {},
   "outputs": [],
   "source": [
    "def create_summary_tables(df, x_col, y_cols, opt_col=None, output_folder=\"./tables\"):\n",
    "    \"\"\"\n",
    "    Generate summary statistics tables for y_cols and opt_col, including standard deviation of differences.\n",
    "\n",
    "    Parameters:\n",
    "        df (pd.DataFrame): The input data.\n",
    "        x_col (str): The independent variable.\n",
    "        y_cols (list[str]): List of dependent variables to process.\n",
    "        opt_col (str, optional): The column for \"Opt\" values, if available.\n",
    "        output_folder (str): Path to save the generated LaTeX tables.\n",
    "    \"\"\"\n",
    "    import os\n",
    "    # Ensure the output folder exists\n",
    "    os.makedirs(output_folder, exist_ok=True)\n",
    "\n",
    "    # Compute per-x_col statistics\n",
    "    agg_funcs = {col: [\"mean\", \"min\", \"max\"] for col in y_cols}\n",
    "\n",
    "    if opt_col:\n",
    "        agg_funcs[opt_col] = [\"mean\", \"min\", \"max\"]\n",
    "    \n",
    "    per_x_stats = df.groupby(x_col).agg(agg_funcs)\n",
    "    per_x_stats.columns = [\"_\".join(col).strip() for col in per_x_stats.columns]\n",
    "    per_x_stats = per_x_stats.reset_index()\n",
    "    \n",
    "    # Apply preprocessing to column names in per_x_stats\n",
    "    per_x_stats.columns = [preprocess_label(col) for col in per_x_stats.columns]\n",
    "\n",
    "    # Compute overall statistics across all x_col values\n",
    "    overall_stats = {}\n",
    "    for col in y_cols + ([opt_col] if opt_col else []):\n",
    "        overall_stats[col] = {\n",
    "            \"mean\": df[col].mean(),\n",
    "            \"min\": df[col].min(),\n",
    "            \"max\": df[col].max(),\n",
    "        }\n",
    "\n",
    "    overall_stats_df = pd.DataFrame(overall_stats).T.reset_index()\n",
    "    overall_stats_df.columns = [\"Metric\", \"Mean\", \"Min\", \"Max\"]\n",
    "\n",
    "    # Apply preprocessing to the \"Metric\" column\n",
    "    overall_stats_df[\"Metric\"] = overall_stats_df[\"Metric\"].apply(preprocess_label)\n",
    "\n",
    "    # Apply preprocessing to column names in overall_stats_df\n",
    "    overall_stats_df.columns = [preprocess_label(col) for col in overall_stats_df.columns]\n",
    "\n",
    "    # Transpose the table\n",
    "    per_x_stats_transposed = per_x_stats.T\n",
    "    per_x_stats_transposed.reset_index(inplace=True)  # Reset the index so the first row can be handled properly\n",
    "    per_x_stats_transposed.columns = per_x_stats_transposed.iloc[0]  # Set the first row as column headers\n",
    "    per_x_stats_transposed = per_x_stats_transposed.drop(index=0)  # Remove the old header row\n",
    "        \n",
    "    # Use the original x_col name as the table header for clarity\n",
    "    header_name = preprocess_label(x_col)  # Ensure it's preprocessed consistently\n",
    "    per_x_stats_transposed.rename(columns={per_x_stats_transposed.columns[0]: header_name}, inplace=True)\n",
    "    \n",
    "    # Apply the format_value function to each element of the DataFrame\n",
    "    for col in per_x_stats_transposed.columns:\n",
    "        per_x_stats_transposed[col] = per_x_stats_transposed[col].map(format_value)\n",
    "    \n",
    "    # Save the transposed table\n",
    "    per_x_table_path = os.path.join(output_folder, f\"per_x_stats_{x_col}_transposed.tex\")\n",
    "    with open(per_x_table_path, \"w\") as f:\n",
    "        f.write(per_x_stats_transposed.to_latex(index=True, float_format=\"%.3f\"))\n",
    "    \n",
    "    # Save per-x_col statistics to a LaTeX table\n",
    "    per_x_table_path = os.path.join(output_folder, f\"per_x_stats_{x_col}.tex\")\n",
    "    with open(per_x_table_path, \"w\") as f:\n",
    "        f.write(per_x_stats.to_latex(index=False, float_format=\"%.3f\"))\n",
    "\n",
    "    # Save overall statistics to a LaTeX table\n",
    "    overall_table_path = os.path.join(output_folder, f\"overall_stats_{x_col}.tex\")\n",
    "    with open(overall_table_path, \"w\") as f:\n",
    "        f.write(overall_stats_df.to_latex(index=False, float_format=\"%.3f\"))\n",
    "\n",
    "    print(f\"Summary tables saved: {per_x_table_path}, {overall_table_path}\")\n",
    "    return per_x_stats, overall_stats_df\n"
   ]
  },
  {
   "cell_type": "code",
   "execution_count": 11,
   "id": "c1865f26-70be-4ea7-8aa5-8d4fa1e83fbe",
   "metadata": {},
   "outputs": [],
   "source": [
    "# Plotting\n",
    "def plot_data(df, x_col, y_cols, title, x_label, y_label, output_file=None, opt_col=None, log_scale=False):\n",
    "    # Aggregate data by x_col (compute mean, min, max for each x)\n",
    "    agg_funcs = {col: [\"mean\", \"min\", \"max\"] for col in y_cols}\n",
    "    if opt_col:\n",
    "        agg_funcs[opt_col] = [\"mean\", \"min\", \"max\"]\n",
    "\n",
    "    # Group by x_col and compute aggregated values\n",
    "    aggregated_df = df.groupby(x_col).agg(agg_funcs)\n",
    "    aggregated_df.columns = [\"_\".join(col).strip() for col in aggregated_df.columns]\n",
    "    aggregated_df = aggregated_df.reset_index()\n",
    "\n",
    "    # Compute the worst-case values\n",
    "    if opt_col and \"worst_case\" in y_cols:\n",
    "        aggregated_df[\"worst_case_mean\"] *= aggregated_df[f\"{opt_col}_mean\"]\n",
    "        aggregated_df[\"worst_case_min\"] *= aggregated_df[f\"{opt_col}_min\"]\n",
    "        aggregated_df[\"worst_case_max\"] *= aggregated_df[f\"{opt_col}_max\"]\n",
    "            \n",
    "\n",
    "    plt.figure(figsize=(12, 6))\n",
    "\n",
    "    # Generate up to 10 distinct colors using a colormap\n",
    "    colormap = plt.get_cmap(\"tab10\", 10)  # Use \"tab10\" for distinct qualitative colors\n",
    "    color_list = [colormap(i) for i in range(10)]  # Generate a list of RGBA colors\n",
    "\n",
    "    y_cols_filtered = [col for col in y_cols if col not in [\"worst_case\"]]\n",
    "    for i, y in enumerate(y_cols_filtered):\n",
    "        # Assign a color based on the index (cycling if more than 10 functions)\n",
    "        base_color = color_list[i % 10]\n",
    "        \n",
    "        # Generate colors for mean, min, and max\n",
    "        mean_color = base_color  # Base color for the mean\n",
    "        min_color = (base_color[0], base_color[1], base_color[2], 0.7)  # Adjust alpha for transparency\n",
    "        max_color = (base_color[0], base_color[1], base_color[2], 1.0)  # Keep max fully opaque\n",
    "        \n",
    "        # Columns for aggregated data\n",
    "        mean_col = f\"{y}_mean\"\n",
    "        min_col = f\"{y}_min\"\n",
    "        max_col = f\"{y}_max\"\n",
    "        \n",
    "        # Plot mean line\n",
    "        sns.lineplot(data=aggregated_df, x=x_col, y=mean_col, label=f\"{preprocess_label(y)} (Mean)\", color=mean_color, errorbar=None)\n",
    "        \n",
    "        # Plot scatter points for min and max with their respective colors\n",
    "        plt.scatter(aggregated_df[x_col], aggregated_df[min_col], color=min_color, label=f\"{preprocess_label(y)} (Min)\", alpha=0.7)\n",
    "        plt.scatter(aggregated_df[x_col], aggregated_df[max_col], color=max_color, label=f\"{preprocess_label(y)} (Max)\", alpha=0.7)\n",
    "\n",
    "    \n",
    "    # Plot Opt column if available\n",
    "    if opt_col:\n",
    "        # Assign a unique color for the `opt_col` using an additional color index\n",
    "        opt_color = color_list[len(y_cols) % 10]  # Next color in the sequence\n",
    "    \n",
    "        # Generate colors for mean, min, and max\n",
    "        opt_mean_color = opt_color  # Base color for the mean\n",
    "        opt_min_color = (opt_color[0], opt_color[1], opt_color[2], 0.7)  # Adjust alpha for transparency\n",
    "        opt_max_color = (opt_color[0], opt_color[1], opt_color[2], 1.0)  # Keep max fully opaque\n",
    "    \n",
    "        # Columns for aggregated data\n",
    "        opt_mean_col = f\"{opt_col}_mean\"\n",
    "        opt_min_col = f\"{opt_col}_min\"\n",
    "        opt_max_col = f\"{opt_col}_max\"\n",
    "    \n",
    "        # Plot mean line\n",
    "        sns.lineplot(data=aggregated_df, x=x_col, y=opt_mean_col, label=f\"{preprocess_label(opt_col)} (Mean)\", linestyle=\"--\", color=opt_mean_color, errorbar=None)\n",
    "    \n",
    "        # Plot scatter points for min and max with their respective colors\n",
    "        plt.scatter(aggregated_df[x_col], aggregated_df[opt_min_col], color=opt_min_color, label=f\"{opt_col} (Min)\", alpha=0.7)\n",
    "        plt.scatter(aggregated_df[x_col], aggregated_df[opt_max_col], color=opt_max_color, label=f\"{opt_col} (Max)\", alpha=0.7)\n",
    "\n",
    "    # Check if \"worst_case\" is in y_cols\n",
    "    if \"worst_case\" in y_cols:\n",
    "        # Plot the worst-case mean line\n",
    "        sns.lineplot(\n",
    "            data=aggregated_df,\n",
    "            x=x_col,\n",
    "            y=\"worst_case_mean\",\n",
    "            label=\"Worst Case (Mean)\",\n",
    "            color=\"black\",\n",
    "            linestyle=\"-\",\n",
    "            linewidth=2.5,\n",
    "            errorbar=None\n",
    "        )\n",
    "        \n",
    "        # Plot scatter points for worst-case min and max\n",
    "        plt.scatter(\n",
    "            aggregated_df[x_col],\n",
    "            aggregated_df[\"worst_case_min\"],\n",
    "            color=\"gray\",\n",
    "            label=\"Worst Case (Min)\",\n",
    "            alpha=0.7\n",
    "        )\n",
    "        plt.scatter(\n",
    "            aggregated_df[x_col],\n",
    "            aggregated_df[\"worst_case_max\"],\n",
    "            color=\"gray\",\n",
    "            label=\"Worst Case (Max)\",\n",
    "            alpha=1.0\n",
    "        )\n",
    "    if log_scale:\n",
    "        plt.yscale(\"log\")\n",
    "    \n",
    "    plt.legend()\n",
    "    plt.xlabel(x_label)\n",
    "    plt.ylabel(y_label)\n",
    "    plt.title(title)\n",
    "    plt.savefig(output_file)\n",
    "    plt.close()"
   ]
  },
  {
   "cell_type": "code",
   "execution_count": 12,
   "id": "805c20d6-de92-421b-ac59-0e7c8111b231",
   "metadata": {},
   "outputs": [],
   "source": [
    "def process_data(\n",
    "    testset,\n",
    "    dreyfus_Wagner=False,\n",
    "    combined_df=None, # pandas data frame\n",
    "    results_folder=\"./results/GraphInstances\",\n",
    "    base_url=\"https://steinlib.zib.de/showset.php?\",\n",
    "    worst_case_param = \"NumberOfTerminals\",\n",
    "):\n",
    "    # Prepare path and URL\n",
    "    folder_path = os.path.join(results_folder, testset)\n",
    "\n",
    "    if not dreyfus_Wagner:\n",
    "        testset_url = base_url + testset\n",
    "    \n",
    "        \n",
    "        # Fetch \"Opt\" values\n",
    "        response = requests.get(testset_url)\n",
    "        opt_values = {}\n",
    "        if response.status_code == 200:\n",
    "            soup = BeautifulSoup(response.text, \"html.parser\")\n",
    "            table_rows = soup.find_all(\"tr\")[1:]\n",
    "            for row in table_rows:\n",
    "                cols = row.find_all(\"td\")\n",
    "                if len(cols) > 5:\n",
    "                    instance_name = cols[0].text.strip()\n",
    "                    opt_value = cols[-1].text.strip().replace(\"\\xa0\", \"\")\n",
    "                    opt_values[instance_name] = float(opt_value) if opt_value.isdigit() else None\n",
    "        else:\n",
    "            print(f\"Failed to fetch 'Opt' values for testset {testset}, status code: {response.status_code}\")\n",
    "            return pd.DataFrame()  # Return empty DataFrame if fetching fails\n",
    "\n",
    "    # Process results files\n",
    "    data_frames = []\n",
    "    for filename in os.listdir(folder_path):\n",
    "        if filename.endswith(\".results\"):\n",
    "            file_path = os.path.join(folder_path, filename)\n",
    "            df = pd.read_csv(file_path)\n",
    "\n",
    "            if not dreyfus_Wagner:\n",
    "                # instance_name = filename.split(\".\")[0]\n",
    "                instance_name = filename.split(\".\")[0].lower()  # Convert instance_name to lowercase\n",
    "                opt_values_lower = {key.lower(): value for key, value in opt_values.items()}  # Convert opt_values keys to lowercase\n",
    "                if instance_name in opt_values_lower:\n",
    "                    df[\"Opt\"] = opt_values_lower[instance_name]\n",
    "            \n",
    "            \n",
    "            time_columns = [col for col in df.columns if \"Time\" in col or \"duration\" in col]\n",
    "            for col in time_columns:\n",
    "                df[col] = df[col] / 1_000_000\n",
    "            data_frames.append(df)\n",
    "\n",
    "\n",
    "    # print(data_frames)\n",
    "    if not data_frames:\n",
    "        print(f\"No .results files found in {folder_path}.\")\n",
    "        return pd.DataFrame()  # Return empty DataFrame if no results files are found\n",
    "\n",
    "    combined_df = pd.concat(data_frames, ignore_index=True)\n",
    "    \n",
    "    # Calculate worst-case values\n",
    "    if worst_case_param in combined_df.columns:\n",
    "        combined_df[\"worst_case\"] = 2 * (1 - 1 / combined_df[worst_case_param])\n",
    "    else:\n",
    "        print(\"Column '{worst_case_param}' not found in the data.\")\n",
    "        return pd.DataFrame()  # Return empty DataFrame if worst-case param column is missing\n",
    "\n",
    "\n",
    "    opt = \"Opt\"\n",
    "    if dreyfus_Wagner:\n",
    "        opt = \"DreyfusWagnerCost\"\n",
    "\n",
    "    min_time = min(combined_df[\"TakahashiMatsuyamaTime\"].min(),combined_df[\"KouMarkowskyBermanTime\"].min())\n",
    "    combined_df[\"TMTimeToPerformance\"] = ((combined_df[\"TakahashiMatsuyamaCost\"]/combined_df[opt]) / (min_time / combined_df[\"TakahashiMatsuyamaTime\"]))\n",
    "    combined_df[\"KMBTimeToPerformance\"] = ((combined_df[\"KouMarkowskyBermanCost\"]/combined_df[opt]) / (min_time / combined_df[\"KouMarkowskyBermanTime\"]))\n",
    "    combined_df[\"DWTimeToPerformance\"] = (combined_df[\"DreyfusWagnerCost\"] / (combined_df[\"DreyfusWagnerTime\"].min() / combined_df[\"DreyfusWagnerTime\"]))\n",
    "\n",
    "\n",
    "    # Check if at any instance we achieved optimal solution\n",
    "    matching_rows_KMB = combined_df[\n",
    "        (combined_df[\"KouMarkowskyBermanCost\"] == combined_df[opt]) \n",
    "    ]\n",
    "    matching_rows_TM = combined_df[\n",
    "        (combined_df[\"TakahashiMatsuyamaCost\"] == combined_df[opt])\n",
    "    ]\n",
    "    \n",
    "    # Check if any rows matched\n",
    "    if not matching_rows_KMB.empty:\n",
    "        print(\"IMPORTANT: There are rows where cost equals the optimal value in KMB!\")\n",
    "    if not matching_rows_TM.empty:\n",
    "        print(\"IMPORTANT: There are rows where cost equals the optimal value in TM!\")  \n",
    "              \n",
    "    return combined_df"
   ]
  },
  {
   "cell_type": "code",
   "execution_count": 13,
   "id": "91b1e4b5-dad4-4458-8a35-8dcde3fcd68f",
   "metadata": {},
   "outputs": [],
   "source": [
    "def process_and_plot(\n",
    "    testset,\n",
    "    dreyfus_Wagner=False,\n",
    "    results_folder=\"./results/GraphInstances\",\n",
    "    base_url=\"https://steinlib.zib.de/showset.php?\",\n",
    "    output_folder=\"./overleaf-repo/images/plots\",\n",
    "    worst_case_param = \"NumberOfTerminals\",\n",
    "    extra_testsets = None,\n",
    "):\n",
    "    combined_name = testset\n",
    "    if not extra_testsets:\n",
    "        output_folder = os.path.join(output_folder, testset)\n",
    "    else:\n",
    "        combined_name = \"_\".join([testset] + extra_testsets)  # Combine testset names\n",
    "        output_folder = os.path.join(output_folder, combined_name)\n",
    "        \n",
    "    os.makedirs(output_folder, exist_ok=True)\n",
    "\n",
    "\n",
    "    if dreyfus_Wagner:\n",
    "        opt = \"DreyfusWagnerCost\"\n",
    "    else:\n",
    "        opt = \"Opt\"\n",
    "        \n",
    "    combined_df = process_data(\n",
    "        testset=testset,\n",
    "        dreyfus_Wagner=dreyfus_Wagner,\n",
    "        results_folder=results_folder,\n",
    "        base_url=base_url,\n",
    "        worst_case_param=worst_case_param,\n",
    "    )\n",
    "    if combined_df is None or combined_df.empty:\n",
    "        print(f\"No valid data returned for testset: {combined_df}\")\n",
    "        return\n",
    "\n",
    "    # Process additional testsets if provided\n",
    "    if extra_testsets:\n",
    "        for additional_testset in extra_testsets:\n",
    "            additional_df = process_data(\n",
    "                testset=additional_testset,\n",
    "                dreyfus_Wagner=dreyfus_Wagner,\n",
    "                combined_df=combined_df,\n",
    "                results_folder=results_folder,\n",
    "                base_url=base_url,\n",
    "                worst_case_param=worst_case_param,\n",
    "            )\n",
    "            # Check if the returned DataFrame is not None or empty\n",
    "            if additional_df is not None and not additional_df.empty:\n",
    "                if combined_df is None or combined_df.empty:\n",
    "                    combined_df = additional_df  # Initialize combined_df if it was empty\n",
    "                else:\n",
    "                    combined_df = pd.concat([combined_df, additional_df], ignore_index=True)\n",
    "            else:\n",
    "                print(f\"No valid data returned for testset: {additional_testset}\")\n",
    "                return\n",
    "    \n",
    "    # Extract the subdirectory (e.g., 'B' from './overleaf-repo/images/plots/B')\n",
    "    subdirectory = get_subdirectory_from_path(output_folder)\n",
    "\n",
    "    # Set the new output folder path for tables (e.g., './overleaf-repo/tables/B')\n",
    "    tables_output_folder = os.path.join(\"./overleaf-repo/tables\", subdirectory)\n",
    "\n",
    "    set_of_x_axes = [\"NumberOfTerminals\", \"NumberOfNodes\", \"NumberOfEdges\"]\n",
    "\n",
    "    for variable in set_of_x_axes:\n",
    "        # Generate plots\n",
    "        # Plot Costs by variable\n",
    "        plot_data(\n",
    "            combined_df,        \n",
    "            x_col=variable,\n",
    "            y_cols=[\"TakahashiMatsuyamaCost\", \"KouMarkowskyBermanCost\", \"worst_case\"],\n",
    "            title=f\"Costs vs {preprocess_label(variable)} ({combined_name})\",\n",
    "            x_label=preprocess_label(variable),\n",
    "            y_label=\"Cost\",\n",
    "            output_file=os.path.join(output_folder, f\"{split_after_second_space(variable)}_cost.png\"),\n",
    "            opt_col=opt\n",
    "        )\n",
    "        # Generate tables with costs\n",
    "        per_x_stats, overall_stats_df = create_summary_tables(\n",
    "            combined_df,        \n",
    "            x_col=variable,\n",
    "            y_cols=[\"TakahashiMatsuyamaCost\", \"KouMarkowskyBermanCost\"],\n",
    "            opt_col=opt,\n",
    "            output_folder=tables_output_folder\n",
    "        )\n",
    "        # Generate tables with approximation ratio\n",
    "        per_x_ratios, overall_ratios = create_approximation_ratio_table(\n",
    "            df=combined_df,        \n",
    "            x_col=variable,\n",
    "            y_cols=[\"TakahashiMatsuyamaCost\", \"KouMarkowskyBermanCost\", \"worst_case\"],\n",
    "            opt_col=opt,\n",
    "            output_folder=tables_output_folder\n",
    "        )\n",
    "        # Plot Times by variable\n",
    "        plot_data(\n",
    "            combined_df,\n",
    "            x_col=variable,\n",
    "            y_cols=[\"TakahashiMatsuyamaTime\", \"KouMarkowskyBermanTime\"],\n",
    "            title=f\"Times vs {preprocess_label(variable)} ({combined_name})\",\n",
    "            x_label=preprocess_label(variable),\n",
    "            y_label=\"Time (seconds)\",\n",
    "            output_file=os.path.join(output_folder, f\"{split_after_second_space(variable)}_time.png\")\n",
    "        )\n",
    "        # Time to performence\n",
    "        plot_data(\n",
    "            combined_df,\n",
    "            x_col=variable,\n",
    "            y_cols=[\"TMTimeToPerformance\", \"KMBTimeToPerformance\"],\n",
    "            title=f\"Performance Cost vs {preprocess_label(variable)} ({combined_name})\",\n",
    "            x_label=preprocess_label(variable),\n",
    "            y_label=\"Performance Cost\",\n",
    "            output_file=os.path.join(output_folder, f\"{split_after_second_space(variable)}_CostToTime.png\")\n",
    "        )\n",
    "\n",
    "    if dreyfus_Wagner:\n",
    "        for variable in set_of_x_axes:\n",
    "            # Generate plots\n",
    "            # Plot Times by variable\n",
    "            plot_data(\n",
    "                combined_df,\n",
    "                x_col=variable,\n",
    "                y_cols=[\"TakahashiMatsuyamaTime\", \"KouMarkowskyBermanTime\",\"DreyfusWagnerTime\"],\n",
    "                title=f\"Times vs {preprocess_label(variable)} ({combined_name})\",\n",
    "                x_label=preprocess_label(variable),\n",
    "                y_label=\"Time (seconds)\",\n",
    "                output_file=os.path.join(output_folder, f\"{split_after_second_space(variable)}_time_with_DW.png\")\n",
    "            )\n",
    "            # Time to performence\n",
    "            plot_data(\n",
    "                combined_df,\n",
    "                x_col=variable,\n",
    "                y_cols=[\"TMTimeToPerformance\", \"KMBTimeToPerformance\",\"DWTimeToPerformance\"],\n",
    "                title=f\"Performance Cost vs {preprocess_label(variable)} ({combined_name})\",\n",
    "                x_label=preprocess_label(variable),\n",
    "                y_label=\"Performance Cost\",\n",
    "                output_file=os.path.join(output_folder, f\"{split_after_second_space(variable)}_CostToTime_with_DW.png\")\n",
    "            )\n",
    "\n",
    "    # Additional plots for TMduration* and KMBduration*\n",
    "    tm_duration_columns = [col for col in combined_df.columns if col.startswith(\"TMduration\")]\n",
    "    kmb_duration_columns = [col for col in combined_df.columns if col.startswith(\"KMBduration\")]\n",
    "\n",
    "    for variable in set_of_x_axes:\n",
    "        # Inner Times\n",
    "        plot_data(\n",
    "            combined_df,        \n",
    "            x_col=variable,\n",
    "            y_cols=tm_duration_columns,\n",
    "            title=f\"TM Durations vs {preprocess_label(variable)} ({combined_name})\",\n",
    "            x_label=preprocess_label(variable),\n",
    "            y_label=\"Time (seconds)\",\n",
    "            output_file=os.path.join(output_folder, f\"{split_after_second_space(variable)}_tm_durations.png\")\n",
    "        )\n",
    "    \n",
    "        plot_data(\n",
    "            combined_df,        \n",
    "            x_col=variable,\n",
    "            y_cols=kmb_duration_columns,\n",
    "            title=f\"KMB Durations vs {preprocess_label(variable)} ({combined_name})\",\n",
    "            x_label=preprocess_label(variable),\n",
    "            y_label=\"Time (seconds)\",\n",
    "            output_file=os.path.join(output_folder, f\"{split_after_second_space(variable)}_kmb_durations.png\"),\n",
    "        )\n",
    "        \n",
    "        plot_data(\n",
    "            combined_df,        \n",
    "            x_col=variable,\n",
    "            y_cols=kmb_duration_columns,\n",
    "            title=f\"KMB Durations vs {preprocess_label(variable)} ({combined_name})\",\n",
    "            x_label=preprocess_label(variable),\n",
    "            y_label=\"Time (seconds)\",\n",
    "            output_file=os.path.join(output_folder, f\"{split_after_second_space(variable)}_kmb_durations_log_scale.png\"),\n",
    "            log_scale=True\n",
    "        )\n",
    "\n",
    "    print(f\"All plots for testset {testset} have been generated in {output_folder}.\")"
   ]
  },
  {
   "cell_type": "code",
   "execution_count": 14,
   "id": "92aefb92-5876-4632-8e95-aef90cf8be08",
   "metadata": {
    "scrolled": true
   },
   "outputs": [
    {
     "name": "stdout",
     "output_type": "stream",
     "text": [
      "IMPORTANT: There are rows where cost equals the optimal value in KMB!\n",
      "IMPORTANT: There are rows where cost equals the optimal value in TM!\n",
      "Summary tables saved: ./overleaf-repo/tables/B/per_x_stats_NumberOfTerminals.tex, ./overleaf-repo/tables/B/overall_stats_NumberOfTerminals.tex\n",
      "Approximation ratio tables saved: ./overleaf-repo/tables/B/approx_ratios_per_x_NumberOfTerminals.tex, ./overleaf-repo/tables/B/approx_ratios_overall_NumberOfTerminals.tex\n",
      "Summary tables saved: ./overleaf-repo/tables/B/per_x_stats_NumberOfNodes.tex, ./overleaf-repo/tables/B/overall_stats_NumberOfNodes.tex\n",
      "Approximation ratio tables saved: ./overleaf-repo/tables/B/approx_ratios_per_x_NumberOfNodes.tex, ./overleaf-repo/tables/B/approx_ratios_overall_NumberOfNodes.tex\n",
      "Summary tables saved: ./overleaf-repo/tables/B/per_x_stats_NumberOfEdges.tex, ./overleaf-repo/tables/B/overall_stats_NumberOfEdges.tex\n",
      "Approximation ratio tables saved: ./overleaf-repo/tables/B/approx_ratios_per_x_NumberOfEdges.tex, ./overleaf-repo/tables/B/approx_ratios_overall_NumberOfEdges.tex\n",
      "All plots for testset B have been generated in ./overleaf-repo/images/plots/B.\n"
     ]
    }
   ],
   "source": [
    "process_and_plot(\"B\")"
   ]
  },
  {
   "cell_type": "code",
   "execution_count": 144,
   "id": "ff908b32-2b5a-4796-9437-25fb5f5772e5",
   "metadata": {},
   "outputs": [
    {
     "name": "stdout",
     "output_type": "stream",
     "text": [
      "IMPORTANT: There are rows where cost equals the optimal value in KMB!\n",
      "IMPORTANT: There are rows where cost equals the optimal value in TM!\n",
      "Summary tables saved: ./overleaf-repo/tables/C/per_x_stats_NumberOfTerminals.tex, ./overleaf-repo/tables/C/overall_stats_NumberOfTerminals.tex\n",
      "Approximation ratio tables saved: ./overleaf-repo/tables/C/approx_ratios_per_x_NumberOfTerminals.tex, ./overleaf-repo/tables/C/approx_ratios_overall_NumberOfTerminals.tex\n",
      "Summary tables saved: ./overleaf-repo/tables/C/per_x_stats_NumberOfNodes.tex, ./overleaf-repo/tables/C/overall_stats_NumberOfNodes.tex\n",
      "Approximation ratio tables saved: ./overleaf-repo/tables/C/approx_ratios_per_x_NumberOfNodes.tex, ./overleaf-repo/tables/C/approx_ratios_overall_NumberOfNodes.tex\n",
      "Summary tables saved: ./overleaf-repo/tables/C/per_x_stats_NumberOfEdges.tex, ./overleaf-repo/tables/C/overall_stats_NumberOfEdges.tex\n",
      "Approximation ratio tables saved: ./overleaf-repo/tables/C/approx_ratios_per_x_NumberOfEdges.tex, ./overleaf-repo/tables/C/approx_ratios_overall_NumberOfEdges.tex\n",
      "All plots for testset C have been generated in ./overleaf-repo/images/plots/C.\n"
     ]
    }
   ],
   "source": [
    "process_and_plot(\"C\")"
   ]
  },
  {
   "cell_type": "code",
   "execution_count": 145,
   "id": "a1635d67-a10a-426e-a46c-108bdcd89f99",
   "metadata": {},
   "outputs": [
    {
     "name": "stdout",
     "output_type": "stream",
     "text": [
      "IMPORTANT: There are rows where cost equals the optimal value in KMB!\n",
      "Summary tables saved: ./overleaf-repo/tables/D/per_x_stats_NumberOfTerminals.tex, ./overleaf-repo/tables/D/overall_stats_NumberOfTerminals.tex\n",
      "Approximation ratio tables saved: ./overleaf-repo/tables/D/approx_ratios_per_x_NumberOfTerminals.tex, ./overleaf-repo/tables/D/approx_ratios_overall_NumberOfTerminals.tex\n",
      "Summary tables saved: ./overleaf-repo/tables/D/per_x_stats_NumberOfNodes.tex, ./overleaf-repo/tables/D/overall_stats_NumberOfNodes.tex\n",
      "Approximation ratio tables saved: ./overleaf-repo/tables/D/approx_ratios_per_x_NumberOfNodes.tex, ./overleaf-repo/tables/D/approx_ratios_overall_NumberOfNodes.tex\n",
      "Summary tables saved: ./overleaf-repo/tables/D/per_x_stats_NumberOfEdges.tex, ./overleaf-repo/tables/D/overall_stats_NumberOfEdges.tex\n",
      "Approximation ratio tables saved: ./overleaf-repo/tables/D/approx_ratios_per_x_NumberOfEdges.tex, ./overleaf-repo/tables/D/approx_ratios_overall_NumberOfEdges.tex\n",
      "All plots for testset D have been generated in ./overleaf-repo/images/plots/D.\n"
     ]
    }
   ],
   "source": [
    "process_and_plot(\"D\")"
   ]
  },
  {
   "cell_type": "code",
   "execution_count": 146,
   "id": "2b0543bb-5636-412b-8461-c4307547090d",
   "metadata": {},
   "outputs": [
    {
     "name": "stdout",
     "output_type": "stream",
     "text": [
      "Summary tables saved: ./overleaf-repo/tables/E/per_x_stats_NumberOfTerminals.tex, ./overleaf-repo/tables/E/overall_stats_NumberOfTerminals.tex\n",
      "Approximation ratio tables saved: ./overleaf-repo/tables/E/approx_ratios_per_x_NumberOfTerminals.tex, ./overleaf-repo/tables/E/approx_ratios_overall_NumberOfTerminals.tex\n",
      "Summary tables saved: ./overleaf-repo/tables/E/per_x_stats_NumberOfNodes.tex, ./overleaf-repo/tables/E/overall_stats_NumberOfNodes.tex\n",
      "Approximation ratio tables saved: ./overleaf-repo/tables/E/approx_ratios_per_x_NumberOfNodes.tex, ./overleaf-repo/tables/E/approx_ratios_overall_NumberOfNodes.tex\n",
      "Summary tables saved: ./overleaf-repo/tables/E/per_x_stats_NumberOfEdges.tex, ./overleaf-repo/tables/E/overall_stats_NumberOfEdges.tex\n",
      "Approximation ratio tables saved: ./overleaf-repo/tables/E/approx_ratios_per_x_NumberOfEdges.tex, ./overleaf-repo/tables/E/approx_ratios_overall_NumberOfEdges.tex\n",
      "All plots for testset E have been generated in ./overleaf-repo/images/plots/E.\n"
     ]
    }
   ],
   "source": [
    "process_and_plot(\"E\")"
   ]
  },
  {
   "cell_type": "code",
   "execution_count": 147,
   "id": "c69f8b06-175a-4535-a865-152624c6a6ec",
   "metadata": {
    "scrolled": true
   },
   "outputs": [
    {
     "name": "stdout",
     "output_type": "stream",
     "text": [
      "IMPORTANT: There are rows where cost equals the optimal value in KMB!\n",
      "IMPORTANT: There are rows where cost equals the optimal value in TM!\n",
      "Summary tables saved: ./overleaf-repo/tables/I080/per_x_stats_NumberOfTerminals.tex, ./overleaf-repo/tables/I080/overall_stats_NumberOfTerminals.tex\n",
      "Approximation ratio tables saved: ./overleaf-repo/tables/I080/approx_ratios_per_x_NumberOfTerminals.tex, ./overleaf-repo/tables/I080/approx_ratios_overall_NumberOfTerminals.tex\n",
      "Summary tables saved: ./overleaf-repo/tables/I080/per_x_stats_NumberOfNodes.tex, ./overleaf-repo/tables/I080/overall_stats_NumberOfNodes.tex\n",
      "Approximation ratio tables saved: ./overleaf-repo/tables/I080/approx_ratios_per_x_NumberOfNodes.tex, ./overleaf-repo/tables/I080/approx_ratios_overall_NumberOfNodes.tex\n",
      "Summary tables saved: ./overleaf-repo/tables/I080/per_x_stats_NumberOfEdges.tex, ./overleaf-repo/tables/I080/overall_stats_NumberOfEdges.tex\n",
      "Approximation ratio tables saved: ./overleaf-repo/tables/I080/approx_ratios_per_x_NumberOfEdges.tex, ./overleaf-repo/tables/I080/approx_ratios_overall_NumberOfEdges.tex\n",
      "All plots for testset I080 have been generated in ./overleaf-repo/images/plots/I080.\n"
     ]
    }
   ],
   "source": [
    "process_and_plot(\"I080\")"
   ]
  },
  {
   "cell_type": "code",
   "execution_count": 148,
   "id": "2a93b270-6afa-48ad-8fde-ae479b82c903",
   "metadata": {
    "scrolled": true
   },
   "outputs": [
    {
     "name": "stdout",
     "output_type": "stream",
     "text": [
      "Summary tables saved: ./overleaf-repo/tables/I160/per_x_stats_NumberOfTerminals.tex, ./overleaf-repo/tables/I160/overall_stats_NumberOfTerminals.tex\n",
      "Approximation ratio tables saved: ./overleaf-repo/tables/I160/approx_ratios_per_x_NumberOfTerminals.tex, ./overleaf-repo/tables/I160/approx_ratios_overall_NumberOfTerminals.tex\n",
      "Summary tables saved: ./overleaf-repo/tables/I160/per_x_stats_NumberOfNodes.tex, ./overleaf-repo/tables/I160/overall_stats_NumberOfNodes.tex\n",
      "Approximation ratio tables saved: ./overleaf-repo/tables/I160/approx_ratios_per_x_NumberOfNodes.tex, ./overleaf-repo/tables/I160/approx_ratios_overall_NumberOfNodes.tex\n",
      "Summary tables saved: ./overleaf-repo/tables/I160/per_x_stats_NumberOfEdges.tex, ./overleaf-repo/tables/I160/overall_stats_NumberOfEdges.tex\n",
      "Approximation ratio tables saved: ./overleaf-repo/tables/I160/approx_ratios_per_x_NumberOfEdges.tex, ./overleaf-repo/tables/I160/approx_ratios_overall_NumberOfEdges.tex\n",
      "All plots for testset I160 have been generated in ./overleaf-repo/images/plots/I160.\n"
     ]
    }
   ],
   "source": [
    "process_and_plot(\"I160\")"
   ]
  },
  {
   "cell_type": "code",
   "execution_count": 149,
   "id": "6533a8aa-c78c-4afb-9c0e-d85f51844520",
   "metadata": {
    "scrolled": true
   },
   "outputs": [
    {
     "name": "stdout",
     "output_type": "stream",
     "text": [
      "Summary tables saved: ./overleaf-repo/tables/I320/per_x_stats_NumberOfTerminals.tex, ./overleaf-repo/tables/I320/overall_stats_NumberOfTerminals.tex\n",
      "Approximation ratio tables saved: ./overleaf-repo/tables/I320/approx_ratios_per_x_NumberOfTerminals.tex, ./overleaf-repo/tables/I320/approx_ratios_overall_NumberOfTerminals.tex\n",
      "Summary tables saved: ./overleaf-repo/tables/I320/per_x_stats_NumberOfNodes.tex, ./overleaf-repo/tables/I320/overall_stats_NumberOfNodes.tex\n",
      "Approximation ratio tables saved: ./overleaf-repo/tables/I320/approx_ratios_per_x_NumberOfNodes.tex, ./overleaf-repo/tables/I320/approx_ratios_overall_NumberOfNodes.tex\n",
      "Summary tables saved: ./overleaf-repo/tables/I320/per_x_stats_NumberOfEdges.tex, ./overleaf-repo/tables/I320/overall_stats_NumberOfEdges.tex\n",
      "Approximation ratio tables saved: ./overleaf-repo/tables/I320/approx_ratios_per_x_NumberOfEdges.tex, ./overleaf-repo/tables/I320/approx_ratios_overall_NumberOfEdges.tex\n",
      "All plots for testset I320 have been generated in ./overleaf-repo/images/plots/I320.\n"
     ]
    }
   ],
   "source": [
    "process_and_plot(\"I320\")"
   ]
  },
  {
   "cell_type": "code",
   "execution_count": 150,
   "id": "35fbb960-a54f-49a9-960d-c420ab0cbe2a",
   "metadata": {
    "scrolled": true
   },
   "outputs": [
    {
     "name": "stdout",
     "output_type": "stream",
     "text": [
      "Summary tables saved: ./overleaf-repo/tables/I640/per_x_stats_NumberOfTerminals.tex, ./overleaf-repo/tables/I640/overall_stats_NumberOfTerminals.tex\n",
      "Approximation ratio tables saved: ./overleaf-repo/tables/I640/approx_ratios_per_x_NumberOfTerminals.tex, ./overleaf-repo/tables/I640/approx_ratios_overall_NumberOfTerminals.tex\n",
      "Summary tables saved: ./overleaf-repo/tables/I640/per_x_stats_NumberOfNodes.tex, ./overleaf-repo/tables/I640/overall_stats_NumberOfNodes.tex\n",
      "Approximation ratio tables saved: ./overleaf-repo/tables/I640/approx_ratios_per_x_NumberOfNodes.tex, ./overleaf-repo/tables/I640/approx_ratios_overall_NumberOfNodes.tex\n",
      "Summary tables saved: ./overleaf-repo/tables/I640/per_x_stats_NumberOfEdges.tex, ./overleaf-repo/tables/I640/overall_stats_NumberOfEdges.tex\n",
      "Approximation ratio tables saved: ./overleaf-repo/tables/I640/approx_ratios_per_x_NumberOfEdges.tex, ./overleaf-repo/tables/I640/approx_ratios_overall_NumberOfEdges.tex\n",
      "All plots for testset I640 have been generated in ./overleaf-repo/images/plots/I640.\n"
     ]
    }
   ],
   "source": [
    "process_and_plot(\"I640\")"
   ]
  },
  {
   "cell_type": "code",
   "execution_count": 166,
   "id": "b181f0cb-8038-4a38-825b-3612e6890b45",
   "metadata": {
    "scrolled": true
   },
   "outputs": [
    {
     "name": "stdout",
     "output_type": "stream",
     "text": [
      "IMPORTANT: There are rows where cost equals the optimal value in KMB!\n",
      "Summary tables saved: ./overleaf-repo/tables/P4E/per_x_stats_NumberOfTerminals.tex, ./overleaf-repo/tables/P4E/overall_stats_NumberOfTerminals.tex\n",
      "Approximation ratio tables saved: ./overleaf-repo/tables/P4E/approx_ratios_per_x_NumberOfTerminals.tex, ./overleaf-repo/tables/P4E/approx_ratios_overall_NumberOfTerminals.tex\n",
      "Summary tables saved: ./overleaf-repo/tables/P4E/per_x_stats_NumberOfNodes.tex, ./overleaf-repo/tables/P4E/overall_stats_NumberOfNodes.tex\n",
      "Approximation ratio tables saved: ./overleaf-repo/tables/P4E/approx_ratios_per_x_NumberOfNodes.tex, ./overleaf-repo/tables/P4E/approx_ratios_overall_NumberOfNodes.tex\n",
      "Summary tables saved: ./overleaf-repo/tables/P4E/per_x_stats_NumberOfEdges.tex, ./overleaf-repo/tables/P4E/overall_stats_NumberOfEdges.tex\n",
      "Approximation ratio tables saved: ./overleaf-repo/tables/P4E/approx_ratios_per_x_NumberOfEdges.tex, ./overleaf-repo/tables/P4E/approx_ratios_overall_NumberOfEdges.tex\n"
     ]
    },
    {
     "name": "stderr",
     "output_type": "stream",
     "text": [
      "/tmp/ipykernel_386/1742335589.py:104: UserWarning: Data has no positive values, and therefore cannot be log-scaled.\n",
      "  plt.yscale(\"log\")\n",
      "/tmp/ipykernel_386/1742335589.py:104: UserWarning: Data has no positive values, and therefore cannot be log-scaled.\n",
      "  plt.yscale(\"log\")\n"
     ]
    },
    {
     "name": "stdout",
     "output_type": "stream",
     "text": [
      "All plots for testset P4E have been generated in ./overleaf-repo/images/plots/P4E.\n"
     ]
    },
    {
     "name": "stderr",
     "output_type": "stream",
     "text": [
      "/tmp/ipykernel_386/1742335589.py:104: UserWarning: Data has no positive values, and therefore cannot be log-scaled.\n",
      "  plt.yscale(\"log\")\n"
     ]
    }
   ],
   "source": [
    "process_and_plot(\"P4E\")"
   ]
  },
  {
   "cell_type": "code",
   "execution_count": 167,
   "id": "c1f86cf3-1548-4794-a9b5-fb2d2e656134",
   "metadata": {
    "scrolled": true
   },
   "outputs": [
    {
     "name": "stdout",
     "output_type": "stream",
     "text": [
      "IMPORTANT: There are rows where cost equals the optimal value in KMB!\n",
      "IMPORTANT: There are rows where cost equals the optimal value in TM!\n",
      "Summary tables saved: ./overleaf-repo/tables/P4Z/per_x_stats_NumberOfTerminals.tex, ./overleaf-repo/tables/P4Z/overall_stats_NumberOfTerminals.tex\n",
      "Approximation ratio tables saved: ./overleaf-repo/tables/P4Z/approx_ratios_per_x_NumberOfTerminals.tex, ./overleaf-repo/tables/P4Z/approx_ratios_overall_NumberOfTerminals.tex\n",
      "Summary tables saved: ./overleaf-repo/tables/P4Z/per_x_stats_NumberOfNodes.tex, ./overleaf-repo/tables/P4Z/overall_stats_NumberOfNodes.tex\n",
      "Approximation ratio tables saved: ./overleaf-repo/tables/P4Z/approx_ratios_per_x_NumberOfNodes.tex, ./overleaf-repo/tables/P4Z/approx_ratios_overall_NumberOfNodes.tex\n",
      "Summary tables saved: ./overleaf-repo/tables/P4Z/per_x_stats_NumberOfEdges.tex, ./overleaf-repo/tables/P4Z/overall_stats_NumberOfEdges.tex\n",
      "Approximation ratio tables saved: ./overleaf-repo/tables/P4Z/approx_ratios_per_x_NumberOfEdges.tex, ./overleaf-repo/tables/P4Z/approx_ratios_overall_NumberOfEdges.tex\n"
     ]
    },
    {
     "name": "stderr",
     "output_type": "stream",
     "text": [
      "/tmp/ipykernel_386/1742335589.py:104: UserWarning: Data has no positive values, and therefore cannot be log-scaled.\n",
      "  plt.yscale(\"log\")\n",
      "/tmp/ipykernel_386/1742335589.py:104: UserWarning: Data has no positive values, and therefore cannot be log-scaled.\n",
      "  plt.yscale(\"log\")\n"
     ]
    },
    {
     "name": "stdout",
     "output_type": "stream",
     "text": [
      "All plots for testset P4Z have been generated in ./overleaf-repo/images/plots/P4Z.\n"
     ]
    },
    {
     "name": "stderr",
     "output_type": "stream",
     "text": [
      "/tmp/ipykernel_386/1742335589.py:104: UserWarning: Data has no positive values, and therefore cannot be log-scaled.\n",
      "  plt.yscale(\"log\")\n"
     ]
    }
   ],
   "source": [
    "process_and_plot(\"P4Z\")"
   ]
  },
  {
   "cell_type": "code",
   "execution_count": 168,
   "id": "f1a24a40-a4d3-489c-8052-6e9159bdeee7",
   "metadata": {
    "scrolled": true
   },
   "outputs": [
    {
     "name": "stdout",
     "output_type": "stream",
     "text": [
      "Summary tables saved: ./overleaf-repo/tables/P6E/per_x_stats_NumberOfTerminals.tex, ./overleaf-repo/tables/P6E/overall_stats_NumberOfTerminals.tex\n",
      "Approximation ratio tables saved: ./overleaf-repo/tables/P6E/approx_ratios_per_x_NumberOfTerminals.tex, ./overleaf-repo/tables/P6E/approx_ratios_overall_NumberOfTerminals.tex\n",
      "Summary tables saved: ./overleaf-repo/tables/P6E/per_x_stats_NumberOfNodes.tex, ./overleaf-repo/tables/P6E/overall_stats_NumberOfNodes.tex\n",
      "Approximation ratio tables saved: ./overleaf-repo/tables/P6E/approx_ratios_per_x_NumberOfNodes.tex, ./overleaf-repo/tables/P6E/approx_ratios_overall_NumberOfNodes.tex\n",
      "Summary tables saved: ./overleaf-repo/tables/P6E/per_x_stats_NumberOfEdges.tex, ./overleaf-repo/tables/P6E/overall_stats_NumberOfEdges.tex\n",
      "Approximation ratio tables saved: ./overleaf-repo/tables/P6E/approx_ratios_per_x_NumberOfEdges.tex, ./overleaf-repo/tables/P6E/approx_ratios_overall_NumberOfEdges.tex\n"
     ]
    },
    {
     "name": "stderr",
     "output_type": "stream",
     "text": [
      "/tmp/ipykernel_386/1742335589.py:104: UserWarning: Data has no positive values, and therefore cannot be log-scaled.\n",
      "  plt.yscale(\"log\")\n",
      "/tmp/ipykernel_386/1742335589.py:104: UserWarning: Data has no positive values, and therefore cannot be log-scaled.\n",
      "  plt.yscale(\"log\")\n"
     ]
    },
    {
     "name": "stdout",
     "output_type": "stream",
     "text": [
      "All plots for testset P6E have been generated in ./overleaf-repo/images/plots/P6E.\n"
     ]
    },
    {
     "name": "stderr",
     "output_type": "stream",
     "text": [
      "/tmp/ipykernel_386/1742335589.py:104: UserWarning: Data has no positive values, and therefore cannot be log-scaled.\n",
      "  plt.yscale(\"log\")\n"
     ]
    }
   ],
   "source": [
    "process_and_plot(\"P6E\")"
   ]
  },
  {
   "cell_type": "code",
   "execution_count": 169,
   "id": "209c6634-fa85-4b29-b84e-34c1138574ee",
   "metadata": {},
   "outputs": [
    {
     "name": "stdout",
     "output_type": "stream",
     "text": [
      "Failed to fetch 'Opt' values for testset P6Z, status code: 500\n",
      "No valid data returned for testset: Empty DataFrame\n",
      "Columns: []\n",
      "Index: []\n"
     ]
    }
   ],
   "source": [
    "process_and_plot(\"P6Z\")"
   ]
  },
  {
   "cell_type": "code",
   "execution_count": 170,
   "id": "a36a34ff-c0f1-49e8-b866-d99162b82c0e",
   "metadata": {},
   "outputs": [
    {
     "name": "stdout",
     "output_type": "stream",
     "text": [
      "IMPORTANT: There are rows where cost equals the optimal value in KMB!\n",
      "IMPORTANT: There are rows where cost equals the optimal value in TM!\n",
      "IMPORTANT: There are rows where cost equals the optimal value in KMB!\n",
      "IMPORTANT: There are rows where cost equals the optimal value in TM!\n",
      "IMPORTANT: There are rows where cost equals the optimal value in KMB!\n",
      "IMPORTANT: There are rows where cost equals the optimal value in KMB!\n",
      "IMPORTANT: There are rows where cost equals the optimal value in TM!\n",
      "Summary tables saved: ./overleaf-repo/tables/B_C_D_E_I080_I160_I320_I640/per_x_stats_NumberOfTerminals.tex, ./overleaf-repo/tables/B_C_D_E_I080_I160_I320_I640/overall_stats_NumberOfTerminals.tex\n",
      "Approximation ratio tables saved: ./overleaf-repo/tables/B_C_D_E_I080_I160_I320_I640/approx_ratios_per_x_NumberOfTerminals.tex, ./overleaf-repo/tables/B_C_D_E_I080_I160_I320_I640/approx_ratios_overall_NumberOfTerminals.tex\n",
      "Summary tables saved: ./overleaf-repo/tables/B_C_D_E_I080_I160_I320_I640/per_x_stats_NumberOfNodes.tex, ./overleaf-repo/tables/B_C_D_E_I080_I160_I320_I640/overall_stats_NumberOfNodes.tex\n",
      "Approximation ratio tables saved: ./overleaf-repo/tables/B_C_D_E_I080_I160_I320_I640/approx_ratios_per_x_NumberOfNodes.tex, ./overleaf-repo/tables/B_C_D_E_I080_I160_I320_I640/approx_ratios_overall_NumberOfNodes.tex\n",
      "Summary tables saved: ./overleaf-repo/tables/B_C_D_E_I080_I160_I320_I640/per_x_stats_NumberOfEdges.tex, ./overleaf-repo/tables/B_C_D_E_I080_I160_I320_I640/overall_stats_NumberOfEdges.tex\n",
      "Approximation ratio tables saved: ./overleaf-repo/tables/B_C_D_E_I080_I160_I320_I640/approx_ratios_per_x_NumberOfEdges.tex, ./overleaf-repo/tables/B_C_D_E_I080_I160_I320_I640/approx_ratios_overall_NumberOfEdges.tex\n",
      "All plots for testset B have been generated in ./overleaf-repo/images/plots/B_C_D_E_I080_I160_I320_I640.\n"
     ]
    }
   ],
   "source": [
    "process_and_plot(\n",
    "    testset = \"B\",\n",
    "    results_folder=\"./results/GraphInstances\",\n",
    "    base_url=\"https://steinlib.zib.de/showset.php?\",\n",
    "    output_folder=\"./overleaf-repo/images/plots\",\n",
    "    worst_case_param = \"NumberOfTerminals\",\n",
    "    extra_testsets = [\"C\",\"D\",\"E\",\"I080\",\"I160\",\"I320\",\"I640\"]\n",
    ")"
   ]
  },
  {
   "cell_type": "code",
   "execution_count": 156,
   "id": "c4001853-559a-46a5-a867-fa267f588f0f",
   "metadata": {},
   "outputs": [
    {
     "name": "stdout",
     "output_type": "stream",
     "text": [
      "IMPORTANT: There are rows where cost equals the optimal value in KMB!\n",
      "IMPORTANT: There are rows where cost equals the optimal value in TM!\n",
      "IMPORTANT: There are rows where cost equals the optimal value in KMB!\n",
      "IMPORTANT: There are rows where cost equals the optimal value in TM!\n",
      "IMPORTANT: There are rows where cost equals the optimal value in KMB!\n",
      "Summary tables saved: ./overleaf-repo/tables/B_C_D_E/per_x_stats_NumberOfTerminals.tex, ./overleaf-repo/tables/B_C_D_E/overall_stats_NumberOfTerminals.tex\n",
      "Approximation ratio tables saved: ./overleaf-repo/tables/B_C_D_E/approx_ratios_per_x_NumberOfTerminals.tex, ./overleaf-repo/tables/B_C_D_E/approx_ratios_overall_NumberOfTerminals.tex\n",
      "Summary tables saved: ./overleaf-repo/tables/B_C_D_E/per_x_stats_NumberOfNodes.tex, ./overleaf-repo/tables/B_C_D_E/overall_stats_NumberOfNodes.tex\n",
      "Approximation ratio tables saved: ./overleaf-repo/tables/B_C_D_E/approx_ratios_per_x_NumberOfNodes.tex, ./overleaf-repo/tables/B_C_D_E/approx_ratios_overall_NumberOfNodes.tex\n",
      "Summary tables saved: ./overleaf-repo/tables/B_C_D_E/per_x_stats_NumberOfEdges.tex, ./overleaf-repo/tables/B_C_D_E/overall_stats_NumberOfEdges.tex\n",
      "Approximation ratio tables saved: ./overleaf-repo/tables/B_C_D_E/approx_ratios_per_x_NumberOfEdges.tex, ./overleaf-repo/tables/B_C_D_E/approx_ratios_overall_NumberOfEdges.tex\n",
      "All plots for testset B have been generated in ./overleaf-repo/images/plots/B_C_D_E.\n"
     ]
    }
   ],
   "source": [
    "process_and_plot(\n",
    "    testset = \"B\",\n",
    "    results_folder=\"./results/GraphInstances\",\n",
    "    base_url=\"https://steinlib.zib.de/showset.php?\",\n",
    "    output_folder=\"./overleaf-repo/images/plots\",\n",
    "    worst_case_param = \"NumberOfTerminals\",\n",
    "    extra_testsets = [\"C\",\"D\",\"E\",]\n",
    ")"
   ]
  },
  {
   "cell_type": "code",
   "execution_count": 157,
   "id": "fa7fbd1c-b2cf-4508-95ba-9734ec5e9b66",
   "metadata": {},
   "outputs": [
    {
     "name": "stdout",
     "output_type": "stream",
     "text": [
      "IMPORTANT: There are rows where cost equals the optimal value in KMB!\n",
      "IMPORTANT: There are rows where cost equals the optimal value in TM!\n",
      "Summary tables saved: ./overleaf-repo/tables/I080_I160_I320_I640/per_x_stats_NumberOfTerminals.tex, ./overleaf-repo/tables/I080_I160_I320_I640/overall_stats_NumberOfTerminals.tex\n",
      "Approximation ratio tables saved: ./overleaf-repo/tables/I080_I160_I320_I640/approx_ratios_per_x_NumberOfTerminals.tex, ./overleaf-repo/tables/I080_I160_I320_I640/approx_ratios_overall_NumberOfTerminals.tex\n",
      "Summary tables saved: ./overleaf-repo/tables/I080_I160_I320_I640/per_x_stats_NumberOfNodes.tex, ./overleaf-repo/tables/I080_I160_I320_I640/overall_stats_NumberOfNodes.tex\n",
      "Approximation ratio tables saved: ./overleaf-repo/tables/I080_I160_I320_I640/approx_ratios_per_x_NumberOfNodes.tex, ./overleaf-repo/tables/I080_I160_I320_I640/approx_ratios_overall_NumberOfNodes.tex\n",
      "Summary tables saved: ./overleaf-repo/tables/I080_I160_I320_I640/per_x_stats_NumberOfEdges.tex, ./overleaf-repo/tables/I080_I160_I320_I640/overall_stats_NumberOfEdges.tex\n",
      "Approximation ratio tables saved: ./overleaf-repo/tables/I080_I160_I320_I640/approx_ratios_per_x_NumberOfEdges.tex, ./overleaf-repo/tables/I080_I160_I320_I640/approx_ratios_overall_NumberOfEdges.tex\n",
      "All plots for testset I080 have been generated in ./overleaf-repo/images/plots/I080_I160_I320_I640.\n"
     ]
    }
   ],
   "source": [
    "process_and_plot(\n",
    "    testset = \"I080\",\n",
    "    results_folder=\"./results/GraphInstances\",\n",
    "    base_url=\"https://steinlib.zib.de/showset.php?\",\n",
    "    output_folder=\"./overleaf-repo/images/plots\",\n",
    "    worst_case_param = \"NumberOfTerminals\",\n",
    "    extra_testsets = [\"I160\",\"I320\",\"I640\"]\n",
    ")"
   ]
  },
  {
   "cell_type": "code",
   "execution_count": 158,
   "id": "93702786-dfb9-4659-ab0e-3723dcff0d6f",
   "metadata": {},
   "outputs": [
    {
     "name": "stdout",
     "output_type": "stream",
     "text": [
      "IMPORTANT: There are rows where cost equals the optimal value in KMB!\n",
      "IMPORTANT: There are rows where cost equals the optimal value in KMB!\n",
      "IMPORTANT: There are rows where cost equals the optimal value in TM!\n",
      "Summary tables saved: ./overleaf-repo/tables/P4E_P4Z/per_x_stats_NumberOfTerminals.tex, ./overleaf-repo/tables/P4E_P4Z/overall_stats_NumberOfTerminals.tex\n",
      "Approximation ratio tables saved: ./overleaf-repo/tables/P4E_P4Z/approx_ratios_per_x_NumberOfTerminals.tex, ./overleaf-repo/tables/P4E_P4Z/approx_ratios_overall_NumberOfTerminals.tex\n",
      "Summary tables saved: ./overleaf-repo/tables/P4E_P4Z/per_x_stats_NumberOfNodes.tex, ./overleaf-repo/tables/P4E_P4Z/overall_stats_NumberOfNodes.tex\n",
      "Approximation ratio tables saved: ./overleaf-repo/tables/P4E_P4Z/approx_ratios_per_x_NumberOfNodes.tex, ./overleaf-repo/tables/P4E_P4Z/approx_ratios_overall_NumberOfNodes.tex\n",
      "Summary tables saved: ./overleaf-repo/tables/P4E_P4Z/per_x_stats_NumberOfEdges.tex, ./overleaf-repo/tables/P4E_P4Z/overall_stats_NumberOfEdges.tex\n",
      "Approximation ratio tables saved: ./overleaf-repo/tables/P4E_P4Z/approx_ratios_per_x_NumberOfEdges.tex, ./overleaf-repo/tables/P4E_P4Z/approx_ratios_overall_NumberOfEdges.tex\n",
      "All plots for testset P4E have been generated in ./overleaf-repo/images/plots/P4E_P4Z.\n"
     ]
    }
   ],
   "source": [
    "process_and_plot(\n",
    "    testset = \"P4E\",\n",
    "    results_folder=\"./results/GraphInstances\",\n",
    "    base_url=\"https://steinlib.zib.de/showset.php?\",\n",
    "    output_folder=\"./overleaf-repo/images/plots\",\n",
    "    worst_case_param = \"NumberOfTerminals\",\n",
    "    extra_testsets = [\"P4Z\"]\n",
    ")"
   ]
  },
  {
   "cell_type": "code",
   "execution_count": 159,
   "id": "410a6b3a-1137-4936-baf9-220f922a562a",
   "metadata": {},
   "outputs": [
    {
     "name": "stdout",
     "output_type": "stream",
     "text": [
      "IMPORTANT: There are rows where cost equals the optimal value in KMB!\n",
      "Summary tables saved: ./overleaf-repo/tables/PUC/per_x_stats_NumberOfTerminals.tex, ./overleaf-repo/tables/PUC/overall_stats_NumberOfTerminals.tex\n",
      "Approximation ratio tables saved: ./overleaf-repo/tables/PUC/approx_ratios_per_x_NumberOfTerminals.tex, ./overleaf-repo/tables/PUC/approx_ratios_overall_NumberOfTerminals.tex\n",
      "Summary tables saved: ./overleaf-repo/tables/PUC/per_x_stats_NumberOfNodes.tex, ./overleaf-repo/tables/PUC/overall_stats_NumberOfNodes.tex\n",
      "Approximation ratio tables saved: ./overleaf-repo/tables/PUC/approx_ratios_per_x_NumberOfNodes.tex, ./overleaf-repo/tables/PUC/approx_ratios_overall_NumberOfNodes.tex\n",
      "Summary tables saved: ./overleaf-repo/tables/PUC/per_x_stats_NumberOfEdges.tex, ./overleaf-repo/tables/PUC/overall_stats_NumberOfEdges.tex\n",
      "Approximation ratio tables saved: ./overleaf-repo/tables/PUC/approx_ratios_per_x_NumberOfEdges.tex, ./overleaf-repo/tables/PUC/approx_ratios_overall_NumberOfEdges.tex\n"
     ]
    },
    {
     "name": "stderr",
     "output_type": "stream",
     "text": [
      "/tmp/ipykernel_386/1742335589.py:104: UserWarning: Data has no positive values, and therefore cannot be log-scaled.\n",
      "  plt.yscale(\"log\")\n",
      "/tmp/ipykernel_386/1742335589.py:104: UserWarning: Data has no positive values, and therefore cannot be log-scaled.\n",
      "  plt.yscale(\"log\")\n"
     ]
    },
    {
     "name": "stdout",
     "output_type": "stream",
     "text": [
      "All plots for testset PUC have been generated in ./overleaf-repo/images/plots/PUC.\n"
     ]
    },
    {
     "name": "stderr",
     "output_type": "stream",
     "text": [
      "/tmp/ipykernel_386/1742335589.py:104: UserWarning: Data has no positive values, and therefore cannot be log-scaled.\n",
      "  plt.yscale(\"log\")\n"
     ]
    }
   ],
   "source": [
    "process_and_plot(\"PUC\")"
   ]
  },
  {
   "cell_type": "code",
   "execution_count": 160,
   "id": "87910f8d-ca59-42d0-af05-51fdcd6340fd",
   "metadata": {},
   "outputs": [
    {
     "name": "stdout",
     "output_type": "stream",
     "text": [
      "IMPORTANT: There are rows where cost equals the optimal value in KMB!\n",
      "IMPORTANT: There are rows where cost equals the optimal value in TM!\n",
      "Summary tables saved: ./overleaf-repo/tables/LIN/per_x_stats_NumberOfTerminals.tex, ./overleaf-repo/tables/LIN/overall_stats_NumberOfTerminals.tex\n",
      "Approximation ratio tables saved: ./overleaf-repo/tables/LIN/approx_ratios_per_x_NumberOfTerminals.tex, ./overleaf-repo/tables/LIN/approx_ratios_overall_NumberOfTerminals.tex\n",
      "Summary tables saved: ./overleaf-repo/tables/LIN/per_x_stats_NumberOfNodes.tex, ./overleaf-repo/tables/LIN/overall_stats_NumberOfNodes.tex\n",
      "Approximation ratio tables saved: ./overleaf-repo/tables/LIN/approx_ratios_per_x_NumberOfNodes.tex, ./overleaf-repo/tables/LIN/approx_ratios_overall_NumberOfNodes.tex\n",
      "Summary tables saved: ./overleaf-repo/tables/LIN/per_x_stats_NumberOfEdges.tex, ./overleaf-repo/tables/LIN/overall_stats_NumberOfEdges.tex\n",
      "Approximation ratio tables saved: ./overleaf-repo/tables/LIN/approx_ratios_per_x_NumberOfEdges.tex, ./overleaf-repo/tables/LIN/approx_ratios_overall_NumberOfEdges.tex\n"
     ]
    },
    {
     "name": "stderr",
     "output_type": "stream",
     "text": [
      "/tmp/ipykernel_386/1742335589.py:104: UserWarning: Data has no positive values, and therefore cannot be log-scaled.\n",
      "  plt.yscale(\"log\")\n",
      "/tmp/ipykernel_386/1742335589.py:104: UserWarning: Data has no positive values, and therefore cannot be log-scaled.\n",
      "  plt.yscale(\"log\")\n"
     ]
    },
    {
     "name": "stdout",
     "output_type": "stream",
     "text": [
      "All plots for testset LIN have been generated in ./overleaf-repo/images/plots/LIN.\n"
     ]
    },
    {
     "name": "stderr",
     "output_type": "stream",
     "text": [
      "/tmp/ipykernel_386/1742335589.py:104: UserWarning: Data has no positive values, and therefore cannot be log-scaled.\n",
      "  plt.yscale(\"log\")\n"
     ]
    }
   ],
   "source": [
    "process_and_plot(\"LIN\")"
   ]
  },
  {
   "cell_type": "code",
   "execution_count": 161,
   "id": "c6b1b50d-4546-4f11-bfcb-1d60a86046df",
   "metadata": {},
   "outputs": [
    {
     "name": "stdout",
     "output_type": "stream",
     "text": [
      "IMPORTANT: There are rows where cost equals the optimal value in KMB!\n",
      "IMPORTANT: There are rows where cost equals the optimal value in TM!\n",
      "IMPORTANT: There are rows where cost equals the optimal value in KMB!\n",
      "IMPORTANT: There are rows where cost equals the optimal value in TM!\n",
      "IMPORTANT: There are rows where cost equals the optimal value in KMB!\n",
      "IMPORTANT: There are rows where cost equals the optimal value in KMB!\n",
      "IMPORTANT: There are rows where cost equals the optimal value in TM!\n",
      "IMPORTANT: There are rows where cost equals the optimal value in KMB!\n",
      "IMPORTANT: There are rows where cost equals the optimal value in KMB!\n",
      "IMPORTANT: There are rows where cost equals the optimal value in TM!\n",
      "IMPORTANT: There are rows where cost equals the optimal value in KMB!\n",
      "IMPORTANT: There are rows where cost equals the optimal value in KMB!\n",
      "IMPORTANT: There are rows where cost equals the optimal value in TM!\n",
      "Summary tables saved: ./overleaf-repo/tables/B_C_D_E_I080_I160_I320_I640_PUC_LIN_P4E_P4Z_P6E/per_x_stats_NumberOfTerminals.tex, ./overleaf-repo/tables/B_C_D_E_I080_I160_I320_I640_PUC_LIN_P4E_P4Z_P6E/overall_stats_NumberOfTerminals.tex\n",
      "Approximation ratio tables saved: ./overleaf-repo/tables/B_C_D_E_I080_I160_I320_I640_PUC_LIN_P4E_P4Z_P6E/approx_ratios_per_x_NumberOfTerminals.tex, ./overleaf-repo/tables/B_C_D_E_I080_I160_I320_I640_PUC_LIN_P4E_P4Z_P6E/approx_ratios_overall_NumberOfTerminals.tex\n",
      "Summary tables saved: ./overleaf-repo/tables/B_C_D_E_I080_I160_I320_I640_PUC_LIN_P4E_P4Z_P6E/per_x_stats_NumberOfNodes.tex, ./overleaf-repo/tables/B_C_D_E_I080_I160_I320_I640_PUC_LIN_P4E_P4Z_P6E/overall_stats_NumberOfNodes.tex\n",
      "Approximation ratio tables saved: ./overleaf-repo/tables/B_C_D_E_I080_I160_I320_I640_PUC_LIN_P4E_P4Z_P6E/approx_ratios_per_x_NumberOfNodes.tex, ./overleaf-repo/tables/B_C_D_E_I080_I160_I320_I640_PUC_LIN_P4E_P4Z_P6E/approx_ratios_overall_NumberOfNodes.tex\n",
      "Summary tables saved: ./overleaf-repo/tables/B_C_D_E_I080_I160_I320_I640_PUC_LIN_P4E_P4Z_P6E/per_x_stats_NumberOfEdges.tex, ./overleaf-repo/tables/B_C_D_E_I080_I160_I320_I640_PUC_LIN_P4E_P4Z_P6E/overall_stats_NumberOfEdges.tex\n",
      "Approximation ratio tables saved: ./overleaf-repo/tables/B_C_D_E_I080_I160_I320_I640_PUC_LIN_P4E_P4Z_P6E/approx_ratios_per_x_NumberOfEdges.tex, ./overleaf-repo/tables/B_C_D_E_I080_I160_I320_I640_PUC_LIN_P4E_P4Z_P6E/approx_ratios_overall_NumberOfEdges.tex\n",
      "All plots for testset B have been generated in ./overleaf-repo/images/plots/B_C_D_E_I080_I160_I320_I640_PUC_LIN_P4E_P4Z_P6E.\n"
     ]
    }
   ],
   "source": [
    "process_and_plot(\n",
    "    testset = \"B\",\n",
    "    results_folder=\"./results/GraphInstances\",\n",
    "    base_url=\"https://steinlib.zib.de/showset.php?\",\n",
    "    output_folder=\"./overleaf-repo/images/plots\",\n",
    "    worst_case_param = \"NumberOfTerminals\",\n",
    "    extra_testsets = [\"C\",\"D\",\"E\",\"I080\",\"I160\",\"I320\",\"I640\",\"PUC\",\"LIN\",\"P4E\",\"P4Z\",\"P6E\"]\n",
    ")"
   ]
  },
  {
   "cell_type": "code",
   "execution_count": 15,
   "id": "892321dc-28d6-48e8-a0fa-b999ba455be3",
   "metadata": {},
   "outputs": [
    {
     "name": "stdout",
     "output_type": "stream",
     "text": [
      "IMPORTANT: There are rows where cost equals the optimal value in KMB!\n",
      "IMPORTANT: There are rows where cost equals the optimal value in TM!\n",
      "Summary tables saved: ./overleaf-repo/tables/d05/per_x_stats_NumberOfTerminals.tex, ./overleaf-repo/tables/d05/overall_stats_NumberOfTerminals.tex\n",
      "Approximation ratio tables saved: ./overleaf-repo/tables/d05/approx_ratios_per_x_NumberOfTerminals.tex, ./overleaf-repo/tables/d05/approx_ratios_overall_NumberOfTerminals.tex\n",
      "Summary tables saved: ./overleaf-repo/tables/d05/per_x_stats_NumberOfNodes.tex, ./overleaf-repo/tables/d05/overall_stats_NumberOfNodes.tex\n",
      "Approximation ratio tables saved: ./overleaf-repo/tables/d05/approx_ratios_per_x_NumberOfNodes.tex, ./overleaf-repo/tables/d05/approx_ratios_overall_NumberOfNodes.tex\n",
      "Summary tables saved: ./overleaf-repo/tables/d05/per_x_stats_NumberOfEdges.tex, ./overleaf-repo/tables/d05/overall_stats_NumberOfEdges.tex\n",
      "Approximation ratio tables saved: ./overleaf-repo/tables/d05/approx_ratios_per_x_NumberOfEdges.tex, ./overleaf-repo/tables/d05/approx_ratios_overall_NumberOfEdges.tex\n",
      "All plots for testset OurOwn/d05 have been generated in ./overleaf-repo/images/plots/OurOwn/d05.\n"
     ]
    }
   ],
   "source": [
    "process_and_plot(\"OurOwn/d05\", dreyfus_Wagner=True)"
   ]
  },
  {
   "cell_type": "code",
   "execution_count": null,
   "id": "d1ce0a34-046e-4c33-ae2f-a32de28c16f1",
   "metadata": {},
   "outputs": [],
   "source": [
    "process_and_plot(\"OurOwn/d08\", dreyfus_Wagner=True)"
   ]
  },
  {
   "cell_type": "code",
   "execution_count": null,
   "id": "a00df5d8-1592-4bb1-aea8-ee6ffb5105b2",
   "metadata": {},
   "outputs": [],
   "source": [
    "# process_and_plot(\n",
    "#     testset = \"B\",\n",
    "#     results_folder=\"./results/GraphInstances\",\n",
    "#     base_url=\"https://steinlib.zib.de/showset.php?\",\n",
    "#     output_folder=\"./overleaf-repo/images/plots\",\n",
    "#     worst_case_param = \"NumberOfTerminals\",\n",
    "#     extra_testsets = [\"C\",\"D\",\"E\",\"I080\",\"I160\",\"I320\",\"I640\",\"PUC\",\"LIN\",\"P4E\",\"P4Z\",\"P6E\",\"d05\",\"d08\"]\n",
    "# )"
   ]
  },
  {
   "cell_type": "code",
   "execution_count": null,
   "id": "bc25edda-0844-4bb6-9cb9-e52cb04adcb1",
   "metadata": {},
   "outputs": [],
   "source": []
  }
 ],
 "metadata": {
  "kernelspec": {
   "display_name": "Python 3 (ipykernel)",
   "language": "python",
   "name": "python3"
  },
  "language_info": {
   "codemirror_mode": {
    "name": "ipython",
    "version": 3
   },
   "file_extension": ".py",
   "mimetype": "text/x-python",
   "name": "python",
   "nbconvert_exporter": "python",
   "pygments_lexer": "ipython3",
   "version": "3.12.7"
  }
 },
 "nbformat": 4,
 "nbformat_minor": 5
}
